{
 "cells": [
  {
   "cell_type": "code",
   "metadata": {
    "pycharm": {
     "name": "#%%\n"
    },
    "tags": [],
    "ExecuteTime": {
     "end_time": "2024-06-17T10:14:54.370373Z",
     "start_time": "2024-06-17T10:14:54.301671Z"
    }
   },
   "source": [
    "import os\n",
    "import pickle\n",
    "import re\n",
    "\n",
    "import numpy as np\n",
    "import pandas as pd\n",
    "import seaborn as sns\n",
    "\n",
    "sns.set_style(\"ticks\")\n",
    "\n",
    "with open(\"01a_preprocessing_s1.pkl\", \"rb\") as infile:\n",
    "    pg_s1 = pickle.load(infile)\n",
    "\n",
    "import matplotlib\n",
    "\n",
    "matplotlib.rcParams[\"pdf.fonttype\"] = 42\n",
    "matplotlib.rcParams[\"ps.fonttype\"] = 42\n",
    "\n",
    "import matplotlib.pyplot as plt\n",
    "from autoprot import analysis as ana\n",
    "from autoprot import preprocessing as pp\n",
    "from autoprot import visualization as vis"
   ],
   "outputs": [],
   "execution_count": 29
  },
  {
   "cell_type": "markdown",
   "metadata": {
    "pycharm": {
     "name": "#%% md\n"
    }
   },
   "source": [
    "## Statistical analysis"
   ]
  },
  {
   "cell_type": "code",
   "metadata": {
    "pycharm": {
     "name": "#%%\n"
    },
    "tags": [],
    "ExecuteTime": {
     "end_time": "2024-06-17T10:15:12.399541Z",
     "start_time": "2024-06-17T10:14:54.386029Z"
    }
   },
   "source": [
    "# two sample ranksum analysis\n",
    "pg_s1 = ana.rank_prod(\n",
    "    pg_s1,\n",
    "    reps=[\n",
    "        pg_s1.filter(regex=\"TPA.*S\\d+_R\\d+.*_imputed\").columns.tolist(),\n",
    "        pg_s1.filter(regex=\"WT.*_imputed\").columns.tolist(),\n",
    "    ],\n",
    "    cond=\"_S1_interactome_ranksum\",\n",
    "    print_r=True,\n",
    ")"
   ],
   "outputs": [
    {
     "name": "stdout",
     "output_type": "stream",
     "text": [
      "rankProd: Assuming a two sample test with:\n",
      "Sample 1: \n",
      "\tsum_iBAQ.TPA_S1_R1_median_corrected_normalized_imputed, \n",
      "\tsum_iBAQ.TPA_S1_R2_median_corrected_normalized_imputed, \n",
      "\tsum_iBAQ.TPA_S1_R3_median_corrected_normalized_imputed\n",
      "Sample 2: \n",
      "\tsum_iBAQ.WT_S1_R1_median_corrected_normalized_imputed, \n",
      "\tsum_iBAQ.WT_S1_R2_median_corrected_normalized_imputed, \n",
      "\tsum_iBAQ.WT_S1_R3_median_corrected_normalized_imputed\n",
      "Class labels: 0, 0, 0, 1, 1, 1\n",
      " The data is from  1 different origins \n",
      " \n",
      "Rank Sum analysis for two-class case \n",
      " \n",
      "Rank Sum analysis for unpaired case \n",
      " \n",
      "\n",
      " done  \n",
      "Loading required package: pak\n",
      "Warning message:\n",
      "package 'pak' was built under R version 4.2.3 \n",
      "â„¹ Loading metadata database\n",
      "âœ” Loading metadata database ... done\n",
      "\n",
      " \n",
      "â„¹ No downloads are needed\n",
      "âœ” 1 pkg + 183 deps: kept 61 [11.4s]\n",
      "Loading required package: github::kreutz-lab/DIMAR\n",
      "Loading required package: rrcovNA\n",
      "Loading required package: rrcov\n",
      "Loading required package: robustbase\n",
      "Scalable Robust Estimators with High Breakdown Point (version 1.7-2)\n",
      "\n",
      "Scalable Robust Estimators with High Breakdown Point for\n",
      "Incomplete Data (version 0.4-15)\n",
      "\n",
      "Loading required package: tidyverse\n",
      "â”€â”€ Attaching packages â”€â”€â”€â”€â”€â”€â”€â”€â”€â”€â”€â”€â”€â”€â”€â”€â”€â”€â”€â”€â”€â”€â”€â”€â”€â”€â”€â”€â”€â”€â”€â”€â”€â”€â”€â”€â”€â”€â”€ tidyverse 1.3.2 â”€â”€\n",
      "âœ” ggplot2 3.4.0     âœ” purrr   1.0.1\n",
      "âœ” tibble  3.1.8     âœ” dplyr   1.1.0\n",
      "âœ” tidyr   1.3.0     âœ” stringr 1.5.0\n",
      "âœ” readr   2.1.3     âœ” forcats 1.0.0\n",
      "â”€â”€ Conflicts â”€â”€â”€â”€â”€â”€â”€â”€â”€â”€â”€â”€â”€â”€â”€â”€â”€â”€â”€â”€â”€â”€â”€â”€â”€â”€â”€â”€â”€â”€â”€â”€â”€â”€â”€â”€â”€â”€â”€â”€â”€â”€ tidyverse_conflicts() â”€â”€\n",
      "âœ– dplyr::filter() masks stats::filter()\n",
      "âœ– dplyr::lag()    masks stats::lag()\n",
      "Loading required package: tmvtnorm\n",
      "Loading required package: mvtnorm\n",
      "Loading required package: Matrix\n",
      "\n",
      "Attaching package: 'Matrix'\n",
      "\n",
      "The following objects are masked from 'package:tidyr':\n",
      "\n",
      "    expand, pack, unpack\n",
      "\n",
      "Loading required package: stats4\n",
      "Loading required package: gmm\n",
      "Loading required package: sandwich\n",
      "Loading required package: limma\n",
      "Loading required package: vsn\n",
      "Loading required package: Biobase\n",
      "Loading required package: BiocGenerics\n",
      "\n",
      "Attaching package: 'BiocGenerics'\n",
      "\n",
      "The following object is masked from 'package:limma':\n",
      "\n",
      "    plotMA\n",
      "\n",
      "The following objects are masked from 'package:dplyr':\n",
      "\n",
      "    combine, intersect, setdiff, union\n",
      "\n",
      "The following objects are masked from 'package:stats':\n",
      "\n",
      "    IQR, mad, sd, var, xtabs\n",
      "\n",
      "The following objects are masked from 'package:base':\n",
      "\n",
      "    anyDuplicated, aperm, append, as.data.frame, basename, cbind,\n",
      "    colnames, dirname, do.call, duplicated, eval, evalq, Filter, Find,\n",
      "    get, grep, grepl, intersect, is.unsorted, lapply, Map, mapply,\n",
      "    match, mget, order, paste, pmax, pmax.int, pmin, pmin.int,\n",
      "    Position, rank, rbind, Reduce, rownames, sapply, setdiff, sort,\n",
      "    table, tapply, union, unique, unsplit, which.max, which.min\n",
      "\n",
      "Welcome to Bioconductor\n",
      "\n",
      "    Vignettes contain introductory material; view with\n",
      "    'browseVignettes()'. To cite Bioconductor, see\n",
      "    'citation(\"Biobase\")', and for packages 'citation(\"pkgname\")'.\n",
      "\n",
      "\n",
      "Attaching package: 'Biobase'\n",
      "\n",
      "The following object is masked from 'package:robustbase':\n",
      "\n",
      "    rowMedians\n",
      "\n",
      "Loading required package: RankProd\n",
      "Loading required package: Rmpfr\n",
      "Loading required package: gmp\n",
      "\n",
      "Attaching package: 'gmp'\n",
      "\n",
      "The following objects are masked from 'package:Matrix':\n",
      "\n",
      "    crossprod, tcrossprod\n",
      "\n",
      "The following objects are masked from 'package:base':\n",
      "\n",
      "    %*%, apply, crossprod, matrix, tcrossprod\n",
      "\n",
      "C code of R package 'Rmpfr': GMP using 64 bits per limb\n",
      "\n",
      "\n",
      "Attaching package: 'Rmpfr'\n",
      "\n",
      "The following object is masked from 'package:gmp':\n",
      "\n",
      "    outer\n",
      "\n",
      "The following objects are masked from 'package:BiocGenerics':\n",
      "\n",
      "    cbind, pmax, pmin, rbind\n",
      "\n",
      "The following objects are masked from 'package:stats':\n",
      "\n",
      "    dbinom, dgamma, dnbinom, dnorm, dpois, dt, pnorm\n",
      "\n",
      "The following objects are masked from 'package:base':\n",
      "\n",
      "    cbind, pmax, pmin, rbind\n",
      "\n",
      "Loading required package: pcaMethods\n",
      "\n",
      "Attaching package: 'pcaMethods'\n",
      "\n",
      "The following object is masked from 'package:stats':\n",
      "\n",
      "    loadings\n",
      "\n",
      "Loading required package: impute\n",
      "Loading required package: SummarizedExperiment\n",
      "Loading required package: MatrixGenerics\n",
      "Loading required package: matrixStats\n",
      "\n",
      "Attaching package: 'matrixStats'\n",
      "\n",
      "The following objects are masked from 'package:Biobase':\n",
      "\n",
      "    anyMissing, rowMedians\n",
      "\n",
      "The following object is masked from 'package:dplyr':\n",
      "\n",
      "    count\n",
      "\n",
      "The following objects are masked from 'package:robustbase':\n",
      "\n",
      "    colMedians, rowMedians\n",
      "\n",
      "\n",
      "Attaching package: 'MatrixGenerics'\n",
      "\n",
      "The following objects are masked from 'package:matrixStats':\n",
      "\n",
      "    colAlls, colAnyNAs, colAnys, colAvgsPerRowSet, colCollapse,\n",
      "    colCounts, colCummaxs, colCummins, colCumprods, colCumsums,\n",
      "    colDiffs, colIQRDiffs, colIQRs, colLogSumExps, colMadDiffs,\n",
      "    colMads, colMaxs, colMeans2, colMedians, colMins, colOrderStats,\n",
      "    colProds, colQuantiles, colRanges, colRanks, colSdDiffs, colSds,\n",
      "    colSums2, colTabulates, colVarDiffs, colVars, colWeightedMads,\n",
      "    colWeightedMeans, colWeightedMedians, colWeightedSds,\n",
      "    colWeightedVars, rowAlls, rowAnyNAs, rowAnys, rowAvgsPerColSet,\n",
      "    rowCollapse, rowCounts, rowCummaxs, rowCummins, rowCumprods,\n",
      "    rowCumsums, rowDiffs, rowIQRDiffs, rowIQRs, rowLogSumExps,\n",
      "    rowMadDiffs, rowMads, rowMaxs, rowMeans2, rowMedians, rowMins,\n",
      "    rowOrderStats, rowProds, rowQuantiles, rowRanges, rowRanks,\n",
      "    rowSdDiffs, rowSds, rowSums2, rowTabulates, rowVarDiffs, rowVars,\n",
      "    rowWeightedMads, rowWeightedMeans, rowWeightedMedians,\n",
      "    rowWeightedSds, rowWeightedVars\n",
      "\n",
      "The following object is masked from 'package:Biobase':\n",
      "\n",
      "    rowMedians\n",
      "\n",
      "The following objects are masked from 'package:robustbase':\n",
      "\n",
      "    colMedians, rowMedians\n",
      "\n",
      "Loading required package: GenomicRanges\n",
      "Loading required package: S4Vectors\n",
      "\n",
      "Attaching package: 'S4Vectors'\n",
      "\n",
      "The following objects are masked from 'package:Matrix':\n",
      "\n",
      "    expand, unname\n",
      "\n",
      "The following objects are masked from 'package:dplyr':\n",
      "\n",
      "    first, rename\n",
      "\n",
      "The following object is masked from 'package:tidyr':\n",
      "\n",
      "    expand\n",
      "\n",
      "The following objects are masked from 'package:base':\n",
      "\n",
      "    expand.grid, I, unname\n",
      "\n",
      "Loading required package: IRanges\n",
      "\n",
      "Attaching package: 'IRanges'\n",
      "\n",
      "The following objects are masked from 'package:dplyr':\n",
      "\n",
      "    collapse, desc, slice\n",
      "\n",
      "The following object is masked from 'package:purrr':\n",
      "\n",
      "    reduce\n",
      "\n",
      "The following object is masked from 'package:grDevices':\n",
      "\n",
      "    windows\n",
      "\n",
      "Loading required package: GenomeInfoDb\n",
      "There were 25 warnings (use warnings() to see them)\n",
      "\n"
     ]
    }
   ],
   "execution_count": 30
  },
  {
   "cell_type": "code",
   "metadata": {
    "collapsed": false,
    "jupyter": {
     "outputs_hidden": false
    },
    "pycharm": {
     "name": "#%%\n"
    },
    "ExecuteTime": {
     "end_time": "2024-06-17T10:15:12.415192Z",
     "start_time": "2024-06-17T10:15:12.399541Z"
    }
   },
   "source": [
    "pg_s1[\"POI\"] = False\n",
    "\n",
    "pg_s1[\"POI\"] = pg_s1[\"Gene names\"].astype(str).str.lower().str.capitalize()\n",
    "# Pex39 has no gene name\n",
    "pg_s1.loc[pg_s1[\"Protein names\"].str.contains(\"YJR012C\", na=False), \"POI\"] = \"Pex39\""
   ],
   "outputs": [],
   "execution_count": 31
  },
  {
   "cell_type": "markdown",
   "metadata": {
    "pycharm": {
     "name": "#%% md\n"
    }
   },
   "source": [
    "## Plotting Volcano Plots"
   ]
  },
  {
   "cell_type": "code",
   "metadata": {
    "collapsed": false,
    "jupyter": {
     "outputs_hidden": false
    },
    "pycharm": {
     "name": "#%%\n"
    },
    "ExecuteTime": {
     "end_time": "2024-06-17T10:15:14.620464Z",
     "start_time": "2024-06-17T10:15:12.415192Z"
    }
   },
   "source": [
    "from plotly.subplots import make_subplots\n",
    "\n",
    "fig, ax = plt.subplots(1, 1, figsize=(5, 3.5), sharey=\"all\")\n",
    "\n",
    "inter_fig = make_subplots(1, 1, shared_yaxes=True, subplot_titles=[\"RankSum\"])\n",
    "\n",
    "highlight = pg_s1[\n",
    "    (\n",
    "        (pg_s1[\"Gene names\"].str.contains(\"PEX*\", na=False))\n",
    "        & (pg_s1[\"adj.P.Val_class1>class2_S1_interactome_ranksum\"] < 0.05)\n",
    "        | (pg_s1[\"Gene names\"] == \"PNC1\")\n",
    "    )\n",
    "].index\n",
    "\n",
    "highlight_cargo = pg_s1[(pg_s1[\"Gene names\"].isin([\"POT1\", \"GPD1\"]) != False)].index\n",
    "\n",
    "highlight_pex39 = pg_s1[pg_s1[\"Protein names\"].str.contains(\"YJR012C\", na=False)].index\n",
    "highlight_pex18 = pg_s1[pg_s1[\"Gene names\"].isin([\"PEX21\", \"PEX18\"])].index\n",
    "highlight_pex7 = pg_s1[pg_s1[\"Gene names\"] == \"PEX7\"].index\n",
    "\n",
    "highlight_nonsig = pg_s1[\n",
    "    (pg_s1[\"Gene names\"].str.contains(\"PEX*\", na=False))\n",
    "    & (pg_s1[\"adj.P.Val_class1>class2_S1_interactome_ranksum\"] >= 0.05)\n",
    "].index\n",
    "\n",
    "vis.volcano(\n",
    "    pg_s1,\n",
    "    title=\"RankSum Test\",\n",
    "    log_fc_colname=f\"logFC_S1_interactome_ranksum\",\n",
    "    log_fc_thresh=None,\n",
    "    p_colname=\"adj.P.Val_class1>class2_S1_interactome_ranksum\",\n",
    "    annotate_colname=\"POI\",\n",
    "    annotate=\"highlight\",\n",
    "    highlight=[\n",
    "        highlight,\n",
    "        highlight_pex39,\n",
    "        highlight_pex18,\n",
    "        highlight_cargo,\n",
    "        highlight_pex7,\n",
    "    ],\n",
    "    kwargs_highlight=[\n",
    "        {\"color\": \"black\", \"s\": 20},\n",
    "        {\"color\": \"purple\", \"s\": 40},\n",
    "        {\"color\": \"dodgerblue\", \"s\": 40},\n",
    "        {\"color\": \"orange\", \"s\": 40},\n",
    "        {\"color\": \"green\", \"s\": 40},\n",
    "    ],\n",
    "    kwargs_ns=dict(color=\"lightgrey\", s=5),\n",
    "    kwargs_p_sig=dict(color=\"lightgrey\", s=20, edgecolors=\"none\"),\n",
    "    show_legend=False,\n",
    "    show_caption=False,\n",
    "    ax=ax,\n",
    ")\n",
    "\n",
    "tmp = pg_s1.loc[\n",
    "    :,\n",
    "    [f\"logFC_S1_interactome_ranksum\", \"adj.P.Val_class1>class2_S1_interactome_ranksum\"],\n",
    "]\n",
    "tmp[\"logp\"] = -np.log10(tmp[\"adj.P.Val_class1>class2_S1_interactome_ranksum\"])\n",
    "tmp.loc[highlight_nonsig, :].plot(\n",
    "    kind=\"scatter\",\n",
    "    x=f\"logFC_S1_interactome_ranksum\",\n",
    "    y=\"logp\",\n",
    "    ax=ax,\n",
    "    color=\"black\",\n",
    "    s=5,\n",
    ")\n",
    "\n",
    "ax.set_xlabel(\"log$_2$ fold-change iBAQ\")\n",
    "ax.set_ylabel(\"-log$_{10}$ q-value\")\n",
    "\n",
    "plt.tight_layout()\n",
    "plt.savefig(f\"plots/02a_volcano_adj_P_S1.png\", dpi=600)\n",
    "plt.savefig(f\"plots/02a_volcano_adj_P_S1.pdf\")"
   ],
   "outputs": [
    {
     "data": {
      "text/plain": [
       "<Figure size 500x350 with 1 Axes>"
      ],
      "image/png": "[encoded data removed]"
     },
     "metadata": {},
     "output_type": "display_data"
    }
   ],
   "execution_count": 32
  },
  {
   "cell_type": "code",
   "metadata": {
    "collapsed": false,
    "jupyter": {
     "outputs_hidden": false
    },
    "pycharm": {
     "name": "#%%\n"
    },
    "ExecuteTime": {
     "end_time": "2024-06-17T10:15:14.742178Z",
     "start_time": "2024-06-17T10:15:14.622579Z"
    }
   },
   "source": [
    "trace = vis.ivolcano(\n",
    "    pg_s1,\n",
    "    title=\"RankSum Test\",\n",
    "    log_fc_colname=f\"logFC_S1_interactome_ranksum\",\n",
    "    p_colname=\"adj.P.Val_class1>class2_S1_interactome_ranksum\",\n",
    "    annotate_colname=\"Gene names\",\n",
    "    highlight=highlight.union(highlight_pex39).union(highlight_pex18),\n",
    "    ret_fig=True,\n",
    ")\n",
    "\n",
    "inter_fig.add_traces(list(trace.data), rows=1, cols=1)\n",
    "\n",
    "inter_fig.write_html(f\"plots/02a_volcano_adj_P_S1.html\")\n",
    "\n",
    "inter_fig.show()"
   ],
   "outputs": [
    {
     "data": {
      "application/vnd.plotly.v1+json": {
       "data": [
        {
         "hovertemplate": "<b>%{hovertext}</b><br><br>SigCat=-<br>logFC_S1_interactome_ranksum=%{x}<br>score=%{y}<extra></extra>",
         "hovertext": [
          "PEX3",
          "PEX4",
          "PEX6",
          "PEX5",
          "PEX22",
          "PEX17",
          "PEX13",
          "PEX25",
          "PEX12",
          "PEX10",
          "PEX19",
          "PEX15",
          "PEX27",
          "IDH1",
          "YPT6",
          "DBP10",
          "CUE5",
          "HEK2",
          "PRS1",
          "NMA2",
          "RPS29A",
          "ARL1",
          "EHT1",
          "NOP16",
          "RPL32",
          "APE3",
          "RFA2",
          "NUP2",
          "RTG2",
          "RPS26A;RPS26B",
          "FOX2",
          "CAR1",
          "PEX3",
          "QCR10",
          "FBA1",
          "UIP4",
          "SEC31",
          "CBR1",
          "RPS10A;RPS10B",
          "YPL260W",
          "ERG13",
          "CDC12",
          "PBA1",
          "IPP1",
          "FUS3",
          "PBP4",
          "GRX1",
          "CTT1",
          null,
          "MRN1",
          "YIP5",
          "MRT4",
          "SSA4",
          "EFM1",
          "PRE7",
          "RPS6B;RPS6A",
          "APD1",
          "GRE2",
          "KRE33",
          "RFC3",
          "LYS9",
          "CKB2",
          "GRE3",
          "RPA135",
          "SSA2",
          "SDS23",
          "CNA1",
          "SEC2"
         ],
         "legendgroup": "-",
         "marker": {
          "color": "#636efa",
          "opacity": 0.5,
          "symbol": "circle"
         },
         "mode": "markers",
         "name": "-",
         "orientation": "v",
         "showlegend": true,
         "x": [
          7.012433505513357,
          4.8706471951163905,
          0.6188922968145576,
          4.404063641200928,
          8.612229823072916,
          9.254360673033464,
          5.059072912343442,
          7.109767753105459,
          7.346244566542765,
          7.786546357015652,
          -0.5387426097631405,
          6.081865184845547,
          5.086562216428543,
          -0.46630180499833074,
          0.5059977612844015,
          0.2501281252428491,
          -0.0343331921378649,
          0.3121354956499296,
          0.6692782518248848,
          -0.5934586410202307,
          -1.589668225018137,
          1.1710563893052068,
          1.8741165168825873,
          0.06557463325961166,
          0.6945090944616048,
          1.3871615517573659,
          1.145187994622301,
          -0.7675448944060292,
          0.8385414155930313,
          0.3874269378645323,
          1.0850418082533686,
          0.5544870892679992,
          6.913829235985666,
          -0.5786006392048009,
          0.30497155512126284,
          0.5044332266629077,
          0.3958752563786625,
          2.556139769176937,
          -2.4950449316378034,
          0.8283752932521153,
          0.10927091279204859,
          -1.3101217573115385,
          0.3891649721996657,
          3.3263169225998617,
          1.813564854801541,
          1.0675957586342726,
          0.3484589889713199,
          2.2015615161753175,
          2.397537344136218,
          0.20606893562747075,
          2.3652192106097516,
          2.053868987029265,
          0.47136806209836735,
          -0.6180538917736591,
          2.4264187828209245,
          0.8734249295774639,
          -1.3169312687407988,
          2.537372758123661,
          -0.5477931203713098,
          1.097367182371812,
          -2.7077414267522197,
          -0.6100443738825625,
          2.0068307140985198,
          -0.20094776207804088,
          1.0485581066595664,
          -0.6727962024415355,
          -0.2346439547214345,
          0.18560216812167596
         ],
         "xaxis": "x",
         "y": [
          0.9225537885751764,
          0.47630910032858476,
          -0.17650247822906667,
          0.37000153726126706,
          1.2683961286555212,
          1.2773509713084474,
          0.25543115149115325,
          0.9272236667086639,
          0.8576498471811622,
          1.1299374058847584,
          0.001593760158094869,
          0.646645798530955,
          0.5448565595677534,
          -0.02035716968423742,
          -0.085571228623564,
          -0.03462454210083826,
          -0.02267410030845524,
          -0.08100038167194995,
          -0.10020996580288177,
          -0.004895452877917945,
          0.005668841865873531,
          -0.1208627234488347,
          -0.13829857821388666,
          -0.026900501815969223,
          -0.1204534968219747,
          -0.16313851667108598,
          -0.17814477648603094,
          -0.002763442966064731,
          -0.10478301602972616,
          -0.050335514059270926,
          -0.13788111603466707,
          -0.0902257448962796,
          0.9261579128440024,
          -0.015374861566955956,
          -0.05434833178619603,
          -0.10519194475663167,
          -0.04190234652240904,
          -0.10374150659520236,
          0.0035814154016470656,
          -0.1259818927349567,
          -0.014760352642686193,
          -0.013517745153932819,
          -0.07650492544590028,
          0.13603788036669515,
          -0.16342151966532373,
          -0.16348502561113143,
          -0.06736154600603243,
          -0.10408339703306259,
          -0.09708079817771412,
          -0.026799204588882585,
          -0.09505745353976194,
          -0.09052328397294926,
          -0.05840670335310472,
          -0.006784362494965519,
          -0.10898045717037641,
          -0.10986733914737305,
          -0.04662990732837646,
          -0.07652954357402281,
          0.012800230444366187,
          -0.15651034435302222,
          0.0010397590400170603,
          0.0040138109060079905,
          -0.09049705147636382,
          -0.019347363925523334,
          -0.14392121704500166,
          0.010262760183009374,
          -0.019505327392996864,
          -0.03851201710619753
         ],
         "yaxis": "y",
         "type": "scatter"
        },
        {
         "hovertemplate": "<b>%{hovertext}</b><br><br>SigCat=*<br>logFC_S1_interactome_ranksum=%{x}<br>score=%{y}<extra></extra>",
         "hovertext": [
          "PEX2",
          "PEX18",
          "PEX7",
          "PEX14",
          "PEX8",
          "PEX11"
         ],
         "legendgroup": "*",
         "marker": {
          "color": "#EF553B",
          "opacity": 0.5,
          "symbol": "circle"
         },
         "mode": "markers",
         "name": "*",
         "orientation": "v",
         "showlegend": true,
         "x": [
          9.148991426552348,
          11.605183032763737,
          10.592211064978333,
          10.771960135929874,
          8.635495284435716,
          10.595107802765035
         ],
         "xaxis": "x",
         "y": [
          1.3135818028308852,
          1.3960407586397463,
          1.4783920514768782,
          1.557573297524502,
          1.3353429182861347,
          1.682512034132803
         ],
         "yaxis": "y",
         "type": "scatter"
        },
        {
         "line": {
          "color": "teal",
          "dash": "longdash"
         },
         "mode": "lines",
         "showlegend": false,
         "x": [
          -2.7077414267522197,
          11.605183032763737
         ],
         "y": [
          1.3010299956639813,
          1.3010299956639813
         ],
         "type": "scatter",
         "xaxis": "x",
         "yaxis": "y"
        }
       ],
       "layout": {
        "template": {
         "data": {
          "histogram2dcontour": [
           {
            "type": "histogram2dcontour",
            "colorbar": {
             "outlinewidth": 0,
             "ticks": ""
            },
            "colorscale": [
             [
              0.0,
              "#0d0887"
             ],
             [
              0.1111111111111111,
              "#46039f"
             ],
             [
              0.2222222222222222,
              "#7201a8"
             ],
             [
              0.3333333333333333,
              "#9c179e"
             ],
             [
              0.4444444444444444,
              "#bd3786"
             ],
             [
              0.5555555555555556,
              "#d8576b"
             ],
             [
              0.6666666666666666,
              "#ed7953"
             ],
             [
              0.7777777777777778,
              "#fb9f3a"
             ],
             [
              0.8888888888888888,
              "#fdca26"
             ],
             [
              1.0,
              "#f0f921"
             ]
            ]
           }
          ],
          "choropleth": [
           {
            "type": "choropleth",
            "colorbar": {
             "outlinewidth": 0,
             "ticks": ""
            }
           }
          ],
          "histogram2d": [
           {
            "type": "histogram2d",
            "colorbar": {
             "outlinewidth": 0,
             "ticks": ""
            },
            "colorscale": [
             [
              0.0,
              "#0d0887"
             ],
             [
              0.1111111111111111,
              "#46039f"
             ],
             [
              0.2222222222222222,
              "#7201a8"
             ],
             [
              0.3333333333333333,
              "#9c179e"
             ],
             [
              0.4444444444444444,
              "#bd3786"
             ],
             [
              0.5555555555555556,
              "#d8576b"
             ],
             [
              0.6666666666666666,
              "#ed7953"
             ],
             [
              0.7777777777777778,
              "#fb9f3a"
             ],
             [
              0.8888888888888888,
              "#fdca26"
             ],
             [
              1.0,
              "#f0f921"
             ]
            ]
           }
          ],
          "heatmap": [
           {
            "type": "heatmap",
            "colorbar": {
             "outlinewidth": 0,
             "ticks": ""
            },
            "colorscale": [
             [
              0.0,
              "#0d0887"
             ],
             [
              0.1111111111111111,
              "#46039f"
             ],
             [
              0.2222222222222222,
              "#7201a8"
             ],
             [
              0.3333333333333333,
              "#9c179e"
             ],
             [
              0.4444444444444444,
              "#bd3786"
             ],
             [
              0.5555555555555556,
              "#d8576b"
             ],
             [
              0.6666666666666666,
              "#ed7953"
             ],
             [
              0.7777777777777778,
              "#fb9f3a"
             ],
             [
              0.8888888888888888,
              "#fdca26"
             ],
             [
              1.0,
              "#f0f921"
             ]
            ]
           }
          ],
          "heatmapgl": [
           {
            "type": "heatmapgl",
            "colorbar": {
             "outlinewidth": 0,
             "ticks": ""
            },
            "colorscale": [
             [
              0.0,
              "#0d0887"
             ],
             [
              0.1111111111111111,
              "#46039f"
             ],
             [
              0.2222222222222222,
              "#7201a8"
             ],
             [
              0.3333333333333333,
              "#9c179e"
             ],
             [
              0.4444444444444444,
              "#bd3786"
             ],
             [
              0.5555555555555556,
              "#d8576b"
             ],
             [
              0.6666666666666666,
              "#ed7953"
             ],
             [
              0.7777777777777778,
              "#fb9f3a"
             ],
             [
              0.8888888888888888,
              "#fdca26"
             ],
             [
              1.0,
              "#f0f921"
             ]
            ]
           }
          ],
          "contourcarpet": [
           {
            "type": "contourcarpet",
            "colorbar": {
             "outlinewidth": 0,
             "ticks": ""
            }
           }
          ],
          "contour": [
           {
            "type": "contour",
            "colorbar": {
             "outlinewidth": 0,
             "ticks": ""
            },
            "colorscale": [
             [
              0.0,
              "#0d0887"
             ],
             [
              0.1111111111111111,
              "#46039f"
             ],
             [
              0.2222222222222222,
              "#7201a8"
             ],
             [
              0.3333333333333333,
              "#9c179e"
             ],
             [
              0.4444444444444444,
              "#bd3786"
             ],
             [
              0.5555555555555556,
              "#d8576b"
             ],
             [
              0.6666666666666666,
              "#ed7953"
             ],
             [
              0.7777777777777778,
              "#fb9f3a"
             ],
             [
              0.8888888888888888,
              "#fdca26"
             ],
             [
              1.0,
              "#f0f921"
             ]
            ]
           }
          ],
          "surface": [
           {
            "type": "surface",
            "colorbar": {
             "outlinewidth": 0,
             "ticks": ""
            },
            "colorscale": [
             [
              0.0,
              "#0d0887"
             ],
             [
              0.1111111111111111,
              "#46039f"
             ],
             [
              0.2222222222222222,
              "#7201a8"
             ],
             [
              0.3333333333333333,
              "#9c179e"
             ],
             [
              0.4444444444444444,
              "#bd3786"
             ],
             [
              0.5555555555555556,
              "#d8576b"
             ],
             [
              0.6666666666666666,
              "#ed7953"
             ],
             [
              0.7777777777777778,
              "#fb9f3a"
             ],
             [
              0.8888888888888888,
              "#fdca26"
             ],
             [
              1.0,
              "#f0f921"
             ]
            ]
           }
          ],
          "mesh3d": [
           {
            "type": "mesh3d",
            "colorbar": {
             "outlinewidth": 0,
             "ticks": ""
            }
           }
          ],
          "scatter": [
           {
            "marker": {
             "line": {
              "color": "#283442"
             }
            },
            "type": "scatter"
           }
          ],
          "parcoords": [
           {
            "type": "parcoords",
            "line": {
             "colorbar": {
              "outlinewidth": 0,
              "ticks": ""
             }
            }
           }
          ],
          "scatterpolargl": [
           {
            "type": "scatterpolargl",
            "marker": {
             "colorbar": {
              "outlinewidth": 0,
              "ticks": ""
             }
            }
           }
          ],
          "bar": [
           {
            "error_x": {
             "color": "#f2f5fa"
            },
            "error_y": {
             "color": "#f2f5fa"
            },
            "marker": {
             "line": {
              "color": "rgb(17,17,17)",
              "width": 0.5
             },
             "pattern": {
              "fillmode": "overlay",
              "size": 10,
              "solidity": 0.2
             }
            },
            "type": "bar"
           }
          ],
          "scattergeo": [
           {
            "type": "scattergeo",
            "marker": {
             "colorbar": {
              "outlinewidth": 0,
              "ticks": ""
             }
            }
           }
          ],
          "scatterpolar": [
           {
            "type": "scatterpolar",
            "marker": {
             "colorbar": {
              "outlinewidth": 0,
              "ticks": ""
             }
            }
           }
          ],
          "histogram": [
           {
            "marker": {
             "pattern": {
              "fillmode": "overlay",
              "size": 10,
              "solidity": 0.2
             }
            },
            "type": "histogram"
           }
          ],
          "scattergl": [
           {
            "marker": {
             "line": {
              "color": "#283442"
             }
            },
            "type": "scattergl"
           }
          ],
          "scatter3d": [
           {
            "type": "scatter3d",
            "line": {
             "colorbar": {
              "outlinewidth": 0,
              "ticks": ""
             }
            },
            "marker": {
             "colorbar": {
              "outlinewidth": 0,
              "ticks": ""
             }
            }
           }
          ],
          "scattermapbox": [
           {
            "type": "scattermapbox",
            "marker": {
             "colorbar": {
              "outlinewidth": 0,
              "ticks": ""
             }
            }
           }
          ],
          "scatterternary": [
           {
            "type": "scatterternary",
            "marker": {
             "colorbar": {
              "outlinewidth": 0,
              "ticks": ""
             }
            }
           }
          ],
          "scattercarpet": [
           {
            "type": "scattercarpet",
            "marker": {
             "colorbar": {
              "outlinewidth": 0,
              "ticks": ""
             }
            }
           }
          ],
          "carpet": [
           {
            "aaxis": {
             "endlinecolor": "#A2B1C6",
             "gridcolor": "#506784",
             "linecolor": "#506784",
             "minorgridcolor": "#506784",
             "startlinecolor": "#A2B1C6"
            },
            "baxis": {
             "endlinecolor": "#A2B1C6",
             "gridcolor": "#506784",
             "linecolor": "#506784",
             "minorgridcolor": "#506784",
             "startlinecolor": "#A2B1C6"
            },
            "type": "carpet"
           }
          ],
          "table": [
           {
            "cells": {
             "fill": {
              "color": "#506784"
             },
             "line": {
              "color": "rgb(17,17,17)"
             }
            },
            "header": {
             "fill": {
              "color": "#2a3f5f"
             },
             "line": {
              "color": "rgb(17,17,17)"
             }
            },
            "type": "table"
           }
          ],
          "barpolar": [
           {
            "marker": {
             "line": {
              "color": "rgb(17,17,17)",
              "width": 0.5
             },
             "pattern": {
              "fillmode": "overlay",
              "size": 10,
              "solidity": 0.2
             }
            },
            "type": "barpolar"
           }
          ],
          "pie": [
           {
            "automargin": true,
            "type": "pie"
           }
          ]
         },
         "layout": {
          "autotypenumbers": "strict",
          "colorway": [
           "#636efa",
           "#EF553B",
           "#00cc96",
           "#ab63fa",
           "#FFA15A",
           "#19d3f3",
           "#FF6692",
           "#B6E880",
           "#FF97FF",
           "#FECB52"
          ],
          "font": {
           "color": "#f2f5fa"
          },
          "hovermode": "closest",
          "hoverlabel": {
           "align": "left"
          },
          "paper_bgcolor": "rgb(17,17,17)",
          "plot_bgcolor": "rgb(17,17,17)",
          "polar": {
           "bgcolor": "rgb(17,17,17)",
           "angularaxis": {
            "gridcolor": "#506784",
            "linecolor": "#506784",
            "ticks": ""
           },
           "radialaxis": {
            "gridcolor": "#506784",
            "linecolor": "#506784",
            "ticks": ""
           }
          },
          "ternary": {
           "bgcolor": "rgb(17,17,17)",
           "aaxis": {
            "gridcolor": "#506784",
            "linecolor": "#506784",
            "ticks": ""
           },
           "baxis": {
            "gridcolor": "#506784",
            "linecolor": "#506784",
            "ticks": ""
           },
           "caxis": {
            "gridcolor": "#506784",
            "linecolor": "#506784",
            "ticks": ""
           }
          },
          "coloraxis": {
           "colorbar": {
            "outlinewidth": 0,
            "ticks": ""
           }
          },
          "colorscale": {
           "sequential": [
            [
             0.0,
             "#0d0887"
            ],
            [
             0.1111111111111111,
             "#46039f"
            ],
            [
             0.2222222222222222,
             "#7201a8"
            ],
            [
             0.3333333333333333,
             "#9c179e"
            ],
            [
             0.4444444444444444,
             "#bd3786"
            ],
            [
             0.5555555555555556,
             "#d8576b"
            ],
            [
             0.6666666666666666,
             "#ed7953"
            ],
            [
             0.7777777777777778,
             "#fb9f3a"
            ],
            [
             0.8888888888888888,
             "#fdca26"
            ],
            [
             1.0,
             "#f0f921"
            ]
           ],
           "sequentialminus": [
            [
             0.0,
             "#0d0887"
            ],
            [
             0.1111111111111111,
             "#46039f"
            ],
            [
             0.2222222222222222,
             "#7201a8"
            ],
            [
             0.3333333333333333,
             "#9c179e"
            ],
            [
             0.4444444444444444,
             "#bd3786"
            ],
            [
             0.5555555555555556,
             "#d8576b"
            ],
            [
             0.6666666666666666,
             "#ed7953"
            ],
            [
             0.7777777777777778,
             "#fb9f3a"
            ],
            [
             0.8888888888888888,
             "#fdca26"
            ],
            [
             1.0,
             "#f0f921"
            ]
           ],
           "diverging": [
            [
             0,
             "#8e0152"
            ],
            [
             0.1,
             "#c51b7d"
            ],
            [
             0.2,
             "#de77ae"
            ],
            [
             0.3,
             "#f1b6da"
            ],
            [
             0.4,
             "#fde0ef"
            ],
            [
             0.5,
             "#f7f7f7"
            ],
            [
             0.6,
             "#e6f5d0"
            ],
            [
             0.7,
             "#b8e186"
            ],
            [
             0.8,
             "#7fbc41"
            ],
            [
             0.9,
             "#4d9221"
            ],
            [
             1,
             "#276419"
            ]
           ]
          },
          "xaxis": {
           "gridcolor": "#283442",
           "linecolor": "#506784",
           "ticks": "",
           "title": {
            "standoff": 15
           },
           "zerolinecolor": "#283442",
           "automargin": true,
           "zerolinewidth": 2
          },
          "yaxis": {
           "gridcolor": "#283442",
           "linecolor": "#506784",
           "ticks": "",
           "title": {
            "standoff": 15
           },
           "zerolinecolor": "#283442",
           "automargin": true,
           "zerolinewidth": 2
          },
          "scene": {
           "xaxis": {
            "backgroundcolor": "rgb(17,17,17)",
            "gridcolor": "#506784",
            "linecolor": "#506784",
            "showbackground": true,
            "ticks": "",
            "zerolinecolor": "#C8D4E3",
            "gridwidth": 2
           },
           "yaxis": {
            "backgroundcolor": "rgb(17,17,17)",
            "gridcolor": "#506784",
            "linecolor": "#506784",
            "showbackground": true,
            "ticks": "",
            "zerolinecolor": "#C8D4E3",
            "gridwidth": 2
           },
           "zaxis": {
            "backgroundcolor": "rgb(17,17,17)",
            "gridcolor": "#506784",
            "linecolor": "#506784",
            "showbackground": true,
            "ticks": "",
            "zerolinecolor": "#C8D4E3",
            "gridwidth": 2
           }
          },
          "shapedefaults": {
           "line": {
            "color": "#f2f5fa"
           }
          },
          "annotationdefaults": {
           "arrowcolor": "#f2f5fa",
           "arrowhead": 0,
           "arrowwidth": 1
          },
          "geo": {
           "bgcolor": "rgb(17,17,17)",
           "landcolor": "rgb(17,17,17)",
           "subunitcolor": "#506784",
           "showland": true,
           "showlakes": true,
           "lakecolor": "rgb(17,17,17)"
          },
          "title": {
           "x": 0.05
          },
          "updatemenudefaults": {
           "bgcolor": "#506784",
           "borderwidth": 0
          },
          "sliderdefaults": {
           "bgcolor": "#C8D4E3",
           "borderwidth": 1,
           "bordercolor": "rgb(17,17,17)",
           "tickwidth": 0
          },
          "mapbox": {
           "style": "dark"
          }
         }
        },
        "xaxis": {
         "anchor": "y",
         "domain": [
          0.0,
          1.0
         ]
        },
        "yaxis": {
         "anchor": "x",
         "domain": [
          0.0,
          1.0
         ]
        },
        "annotations": [
         {
          "font": {
           "size": 16
          },
          "showarrow": false,
          "text": "RankSum",
          "x": 0.5,
          "xanchor": "center",
          "xref": "paper",
          "y": 1.0,
          "yanchor": "bottom",
          "yref": "paper"
         }
        ]
       },
       "config": {
        "plotlyServerURL": "https://plot.ly"
       }
      },
      "text/html": [
       "<div>                            <div id=\"e19279af-43be-4cef-b835-674d2dc9afe2\" class=\"plotly-graph-div\" style=\"height:525px; width:100%;\"></div>            <script type=\"text/javascript\">                require([\"plotly\"], function(Plotly) {                    window.PLOTLYENV=window.PLOTLYENV || {};                                    if (document.getElementById(\"e19279af-43be-4cef-b835-674d2dc9afe2\")) {                    Plotly.newPlot(                        \"e19279af-43be-4cef-b835-674d2dc9afe2\",                        [{\"hovertemplate\":\"\\u003cb\\u003e%{hovertext}\\u003c\\u002fb\\u003e\\u003cbr\\u003e\\u003cbr\\u003eSigCat=-\\u003cbr\\u003elogFC_S1_interactome_ranksum=%{x}\\u003cbr\\u003escore=%{y}\\u003cextra\\u003e\\u003c\\u002fextra\\u003e\",\"hovertext\":[\"PEX3\",\"PEX4\",\"PEX6\",\"PEX5\",\"PEX22\",\"PEX17\",\"PEX13\",\"PEX25\",\"PEX12\",\"PEX10\",\"PEX19\",\"PEX15\",\"PEX27\",\"IDH1\",\"YPT6\",\"DBP10\",\"CUE5\",\"HEK2\",\"PRS1\",\"NMA2\",\"RPS29A\",\"ARL1\",\"EHT1\",\"NOP16\",\"RPL32\",\"APE3\",\"RFA2\",\"NUP2\",\"RTG2\",\"RPS26A;RPS26B\",\"FOX2\",\"CAR1\",\"PEX3\",\"QCR10\",\"FBA1\",\"UIP4\",\"SEC31\",\"CBR1\",\"RPS10A;RPS10B\",\"YPL260W\",\"ERG13\",\"CDC12\",\"PBA1\",\"IPP1\",\"FUS3\",\"PBP4\",\"GRX1\",\"CTT1\",null,\"MRN1\",\"YIP5\",\"MRT4\",\"SSA4\",\"EFM1\",\"PRE7\",\"RPS6B;RPS6A\",\"APD1\",\"GRE2\",\"KRE33\",\"RFC3\",\"LYS9\",\"CKB2\",\"GRE3\",\"RPA135\",\"SSA2\",\"SDS23\",\"CNA1\",\"SEC2\"],\"legendgroup\":\"-\",\"marker\":{\"color\":\"#636efa\",\"opacity\":0.5,\"symbol\":\"circle\"},\"mode\":\"markers\",\"name\":\"-\",\"orientation\":\"v\",\"showlegend\":true,\"x\":[7.012433505513357,4.8706471951163905,0.6188922968145576,4.404063641200928,8.612229823072916,9.254360673033464,5.059072912343442,7.109767753105459,7.346244566542765,7.786546357015652,-0.5387426097631405,6.081865184845547,5.086562216428543,-0.46630180499833074,0.5059977612844015,0.2501281252428491,-0.0343331921378649,0.3121354956499296,0.6692782518248848,-0.5934586410202307,-1.589668225018137,1.1710563893052068,1.8741165168825873,0.06557463325961166,0.6945090944616048,1.3871615517573659,1.145187994622301,-0.7675448944060292,0.8385414155930313,0.3874269378645323,1.0850418082533686,0.5544870892679992,6.913829235985666,-0.5786006392048009,0.30497155512126284,0.5044332266629077,0.3958752563786625,2.556139769176937,-2.4950449316378034,0.8283752932521153,0.10927091279204859,-1.3101217573115385,0.3891649721996657,3.3263169225998617,1.813564854801541,1.0675957586342726,0.3484589889713199,2.2015615161753175,2.397537344136218,0.20606893562747075,2.3652192106097516,2.053868987029265,0.47136806209836735,-0.6180538917736591,2.4264187828209245,0.8734249295774639,-1.3169312687407988,2.537372758123661,-0.5477931203713098,1.097367182371812,-2.7077414267522197,-0.6100443738825625,2.0068307140985198,-0.20094776207804088,1.0485581066595664,-0.6727962024415355,-0.2346439547214345,0.18560216812167596],\"xaxis\":\"x\",\"y\":[0.9225537885751764,0.47630910032858476,-0.17650247822906667,0.37000153726126706,1.2683961286555212,1.2773509713084474,0.25543115149115325,0.9272236667086639,0.8576498471811622,1.1299374058847584,0.001593760158094869,0.646645798530955,0.5448565595677534,-0.02035716968423742,-0.085571228623564,-0.03462454210083826,-0.02267410030845524,-0.08100038167194995,-0.10020996580288177,-0.004895452877917945,0.005668841865873531,-0.1208627234488347,-0.13829857821388666,-0.026900501815969223,-0.1204534968219747,-0.16313851667108598,-0.17814477648603094,-0.002763442966064731,-0.10478301602972616,-0.050335514059270926,-0.13788111603466707,-0.0902257448962796,0.9261579128440024,-0.015374861566955956,-0.05434833178619603,-0.10519194475663167,-0.04190234652240904,-0.10374150659520236,0.0035814154016470656,-0.1259818927349567,-0.014760352642686193,-0.013517745153932819,-0.07650492544590028,0.13603788036669515,-0.16342151966532373,-0.16348502561113143,-0.06736154600603243,-0.10408339703306259,-0.09708079817771412,-0.026799204588882585,-0.09505745353976194,-0.09052328397294926,-0.05840670335310472,-0.006784362494965519,-0.10898045717037641,-0.10986733914737305,-0.04662990732837646,-0.07652954357402281,0.012800230444366187,-0.15651034435302222,0.0010397590400170603,0.0040138109060079905,-0.09049705147636382,-0.019347363925523334,-0.14392121704500166,0.010262760183009374,-0.019505327392996864,-0.03851201710619753],\"yaxis\":\"y\",\"type\":\"scatter\"},{\"hovertemplate\":\"\\u003cb\\u003e%{hovertext}\\u003c\\u002fb\\u003e\\u003cbr\\u003e\\u003cbr\\u003eSigCat=*\\u003cbr\\u003elogFC_S1_interactome_ranksum=%{x}\\u003cbr\\u003escore=%{y}\\u003cextra\\u003e\\u003c\\u002fextra\\u003e\",\"hovertext\":[\"PEX2\",\"PEX18\",\"PEX7\",\"PEX14\",\"PEX8\",\"PEX11\"],\"legendgroup\":\"*\",\"marker\":{\"color\":\"#EF553B\",\"opacity\":0.5,\"symbol\":\"circle\"},\"mode\":\"markers\",\"name\":\"*\",\"orientation\":\"v\",\"showlegend\":true,\"x\":[9.148991426552348,11.605183032763737,10.592211064978333,10.771960135929874,8.635495284435716,10.595107802765035],\"xaxis\":\"x\",\"y\":[1.3135818028308852,1.3960407586397463,1.4783920514768782,1.557573297524502,1.3353429182861347,1.682512034132803],\"yaxis\":\"y\",\"type\":\"scatter\"},{\"line\":{\"color\":\"teal\",\"dash\":\"longdash\"},\"mode\":\"lines\",\"showlegend\":false,\"x\":[-2.7077414267522197,11.605183032763737],\"y\":[1.3010299956639813,1.3010299956639813],\"type\":\"scatter\",\"xaxis\":\"x\",\"yaxis\":\"y\"}],                        {\"template\":{\"data\":{\"histogram2dcontour\":[{\"type\":\"histogram2dcontour\",\"colorbar\":{\"outlinewidth\":0,\"ticks\":\"\"},\"colorscale\":[[0.0,\"#0d0887\"],[0.1111111111111111,\"#46039f\"],[0.2222222222222222,\"#7201a8\"],[0.3333333333333333,\"#9c179e\"],[0.4444444444444444,\"#bd3786\"],[0.5555555555555556,\"#d8576b\"],[0.6666666666666666,\"#ed7953\"],[0.7777777777777778,\"#fb9f3a\"],[0.8888888888888888,\"#fdca26\"],[1.0,\"#f0f921\"]]}],\"choropleth\":[{\"type\":\"choropleth\",\"colorbar\":{\"outlinewidth\":0,\"ticks\":\"\"}}],\"histogram2d\":[{\"type\":\"histogram2d\",\"colorbar\":{\"outlinewidth\":0,\"ticks\":\"\"},\"colorscale\":[[0.0,\"#0d0887\"],[0.1111111111111111,\"#46039f\"],[0.2222222222222222,\"#7201a8\"],[0.3333333333333333,\"#9c179e\"],[0.4444444444444444,\"#bd3786\"],[0.5555555555555556,\"#d8576b\"],[0.6666666666666666,\"#ed7953\"],[0.7777777777777778,\"#fb9f3a\"],[0.8888888888888888,\"#fdca26\"],[1.0,\"#f0f921\"]]}],\"heatmap\":[{\"type\":\"heatmap\",\"colorbar\":{\"outlinewidth\":0,\"ticks\":\"\"},\"colorscale\":[[0.0,\"#0d0887\"],[0.1111111111111111,\"#46039f\"],[0.2222222222222222,\"#7201a8\"],[0.3333333333333333,\"#9c179e\"],[0.4444444444444444,\"#bd3786\"],[0.5555555555555556,\"#d8576b\"],[0.6666666666666666,\"#ed7953\"],[0.7777777777777778,\"#fb9f3a\"],[0.8888888888888888,\"#fdca26\"],[1.0,\"#f0f921\"]]}],\"heatmapgl\":[{\"type\":\"heatmapgl\",\"colorbar\":{\"outlinewidth\":0,\"ticks\":\"\"},\"colorscale\":[[0.0,\"#0d0887\"],[0.1111111111111111,\"#46039f\"],[0.2222222222222222,\"#7201a8\"],[0.3333333333333333,\"#9c179e\"],[0.4444444444444444,\"#bd3786\"],[0.5555555555555556,\"#d8576b\"],[0.6666666666666666,\"#ed7953\"],[0.7777777777777778,\"#fb9f3a\"],[0.8888888888888888,\"#fdca26\"],[1.0,\"#f0f921\"]]}],\"contourcarpet\":[{\"type\":\"contourcarpet\",\"colorbar\":{\"outlinewidth\":0,\"ticks\":\"\"}}],\"contour\":[{\"type\":\"contour\",\"colorbar\":{\"outlinewidth\":0,\"ticks\":\"\"},\"colorscale\":[[0.0,\"#0d0887\"],[0.1111111111111111,\"#46039f\"],[0.2222222222222222,\"#7201a8\"],[0.3333333333333333,\"#9c179e\"],[0.4444444444444444,\"#bd3786\"],[0.5555555555555556,\"#d8576b\"],[0.6666666666666666,\"#ed7953\"],[0.7777777777777778,\"#fb9f3a\"],[0.8888888888888888,\"#fdca26\"],[1.0,\"#f0f921\"]]}],\"surface\":[{\"type\":\"surface\",\"colorbar\":{\"outlinewidth\":0,\"ticks\":\"\"},\"colorscale\":[[0.0,\"#0d0887\"],[0.1111111111111111,\"#46039f\"],[0.2222222222222222,\"#7201a8\"],[0.3333333333333333,\"#9c179e\"],[0.4444444444444444,\"#bd3786\"],[0.5555555555555556,\"#d8576b\"],[0.6666666666666666,\"#ed7953\"],[0.7777777777777778,\"#fb9f3a\"],[0.8888888888888888,\"#fdca26\"],[1.0,\"#f0f921\"]]}],\"mesh3d\":[{\"type\":\"mesh3d\",\"colorbar\":{\"outlinewidth\":0,\"ticks\":\"\"}}],\"scatter\":[{\"marker\":{\"line\":{\"color\":\"#283442\"}},\"type\":\"scatter\"}],\"parcoords\":[{\"type\":\"parcoords\",\"line\":{\"colorbar\":{\"outlinewidth\":0,\"ticks\":\"\"}}}],\"scatterpolargl\":[{\"type\":\"scatterpolargl\",\"marker\":{\"colorbar\":{\"outlinewidth\":0,\"ticks\":\"\"}}}],\"bar\":[{\"error_x\":{\"color\":\"#f2f5fa\"},\"error_y\":{\"color\":\"#f2f5fa\"},\"marker\":{\"line\":{\"color\":\"rgb(17,17,17)\",\"width\":0.5},\"pattern\":{\"fillmode\":\"overlay\",\"size\":10,\"solidity\":0.2}},\"type\":\"bar\"}],\"scattergeo\":[{\"type\":\"scattergeo\",\"marker\":{\"colorbar\":{\"outlinewidth\":0,\"ticks\":\"\"}}}],\"scatterpolar\":[{\"type\":\"scatterpolar\",\"marker\":{\"colorbar\":{\"outlinewidth\":0,\"ticks\":\"\"}}}],\"histogram\":[{\"marker\":{\"pattern\":{\"fillmode\":\"overlay\",\"size\":10,\"solidity\":0.2}},\"type\":\"histogram\"}],\"scattergl\":[{\"marker\":{\"line\":{\"color\":\"#283442\"}},\"type\":\"scattergl\"}],\"scatter3d\":[{\"type\":\"scatter3d\",\"line\":{\"colorbar\":{\"outlinewidth\":0,\"ticks\":\"\"}},\"marker\":{\"colorbar\":{\"outlinewidth\":0,\"ticks\":\"\"}}}],\"scattermapbox\":[{\"type\":\"scattermapbox\",\"marker\":{\"colorbar\":{\"outlinewidth\":0,\"ticks\":\"\"}}}],\"scatterternary\":[{\"type\":\"scatterternary\",\"marker\":{\"colorbar\":{\"outlinewidth\":0,\"ticks\":\"\"}}}],\"scattercarpet\":[{\"type\":\"scattercarpet\",\"marker\":{\"colorbar\":{\"outlinewidth\":0,\"ticks\":\"\"}}}],\"carpet\":[{\"aaxis\":{\"endlinecolor\":\"#A2B1C6\",\"gridcolor\":\"#506784\",\"linecolor\":\"#506784\",\"minorgridcolor\":\"#506784\",\"startlinecolor\":\"#A2B1C6\"},\"baxis\":{\"endlinecolor\":\"#A2B1C6\",\"gridcolor\":\"#506784\",\"linecolor\":\"#506784\",\"minorgridcolor\":\"#506784\",\"startlinecolor\":\"#A2B1C6\"},\"type\":\"carpet\"}],\"table\":[{\"cells\":{\"fill\":{\"color\":\"#506784\"},\"line\":{\"color\":\"rgb(17,17,17)\"}},\"header\":{\"fill\":{\"color\":\"#2a3f5f\"},\"line\":{\"color\":\"rgb(17,17,17)\"}},\"type\":\"table\"}],\"barpolar\":[{\"marker\":{\"line\":{\"color\":\"rgb(17,17,17)\",\"width\":0.5},\"pattern\":{\"fillmode\":\"overlay\",\"size\":10,\"solidity\":0.2}},\"type\":\"barpolar\"}],\"pie\":[{\"automargin\":true,\"type\":\"pie\"}]},\"layout\":{\"autotypenumbers\":\"strict\",\"colorway\":[\"#636efa\",\"#EF553B\",\"#00cc96\",\"#ab63fa\",\"#FFA15A\",\"#19d3f3\",\"#FF6692\",\"#B6E880\",\"#FF97FF\",\"#FECB52\"],\"font\":{\"color\":\"#f2f5fa\"},\"hovermode\":\"closest\",\"hoverlabel\":{\"align\":\"left\"},\"paper_bgcolor\":\"rgb(17,17,17)\",\"plot_bgcolor\":\"rgb(17,17,17)\",\"polar\":{\"bgcolor\":\"rgb(17,17,17)\",\"angularaxis\":{\"gridcolor\":\"#506784\",\"linecolor\":\"#506784\",\"ticks\":\"\"},\"radialaxis\":{\"gridcolor\":\"#506784\",\"linecolor\":\"#506784\",\"ticks\":\"\"}},\"ternary\":{\"bgcolor\":\"rgb(17,17,17)\",\"aaxis\":{\"gridcolor\":\"#506784\",\"linecolor\":\"#506784\",\"ticks\":\"\"},\"baxis\":{\"gridcolor\":\"#506784\",\"linecolor\":\"#506784\",\"ticks\":\"\"},\"caxis\":{\"gridcolor\":\"#506784\",\"linecolor\":\"#506784\",\"ticks\":\"\"}},\"coloraxis\":{\"colorbar\":{\"outlinewidth\":0,\"ticks\":\"\"}},\"colorscale\":{\"sequential\":[[0.0,\"#0d0887\"],[0.1111111111111111,\"#46039f\"],[0.2222222222222222,\"#7201a8\"],[0.3333333333333333,\"#9c179e\"],[0.4444444444444444,\"#bd3786\"],[0.5555555555555556,\"#d8576b\"],[0.6666666666666666,\"#ed7953\"],[0.7777777777777778,\"#fb9f3a\"],[0.8888888888888888,\"#fdca26\"],[1.0,\"#f0f921\"]],\"sequentialminus\":[[0.0,\"#0d0887\"],[0.1111111111111111,\"#46039f\"],[0.2222222222222222,\"#7201a8\"],[0.3333333333333333,\"#9c179e\"],[0.4444444444444444,\"#bd3786\"],[0.5555555555555556,\"#d8576b\"],[0.6666666666666666,\"#ed7953\"],[0.7777777777777778,\"#fb9f3a\"],[0.8888888888888888,\"#fdca26\"],[1.0,\"#f0f921\"]],\"diverging\":[[0,\"#8e0152\"],[0.1,\"#c51b7d\"],[0.2,\"#de77ae\"],[0.3,\"#f1b6da\"],[0.4,\"#fde0ef\"],[0.5,\"#f7f7f7\"],[0.6,\"#e6f5d0\"],[0.7,\"#b8e186\"],[0.8,\"#7fbc41\"],[0.9,\"#4d9221\"],[1,\"#276419\"]]},\"xaxis\":{\"gridcolor\":\"#283442\",\"linecolor\":\"#506784\",\"ticks\":\"\",\"title\":{\"standoff\":15},\"zerolinecolor\":\"#283442\",\"automargin\":true,\"zerolinewidth\":2},\"yaxis\":{\"gridcolor\":\"#283442\",\"linecolor\":\"#506784\",\"ticks\":\"\",\"title\":{\"standoff\":15},\"zerolinecolor\":\"#283442\",\"automargin\":true,\"zerolinewidth\":2},\"scene\":{\"xaxis\":{\"backgroundcolor\":\"rgb(17,17,17)\",\"gridcolor\":\"#506784\",\"linecolor\":\"#506784\",\"showbackground\":true,\"ticks\":\"\",\"zerolinecolor\":\"#C8D4E3\",\"gridwidth\":2},\"yaxis\":{\"backgroundcolor\":\"rgb(17,17,17)\",\"gridcolor\":\"#506784\",\"linecolor\":\"#506784\",\"showbackground\":true,\"ticks\":\"\",\"zerolinecolor\":\"#C8D4E3\",\"gridwidth\":2},\"zaxis\":{\"backgroundcolor\":\"rgb(17,17,17)\",\"gridcolor\":\"#506784\",\"linecolor\":\"#506784\",\"showbackground\":true,\"ticks\":\"\",\"zerolinecolor\":\"#C8D4E3\",\"gridwidth\":2}},\"shapedefaults\":{\"line\":{\"color\":\"#f2f5fa\"}},\"annotationdefaults\":{\"arrowcolor\":\"#f2f5fa\",\"arrowhead\":0,\"arrowwidth\":1},\"geo\":{\"bgcolor\":\"rgb(17,17,17)\",\"landcolor\":\"rgb(17,17,17)\",\"subunitcolor\":\"#506784\",\"showland\":true,\"showlakes\":true,\"lakecolor\":\"rgb(17,17,17)\"},\"title\":{\"x\":0.05},\"updatemenudefaults\":{\"bgcolor\":\"#506784\",\"borderwidth\":0},\"sliderdefaults\":{\"bgcolor\":\"#C8D4E3\",\"borderwidth\":1,\"bordercolor\":\"rgb(17,17,17)\",\"tickwidth\":0},\"mapbox\":{\"style\":\"dark\"}}},\"xaxis\":{\"anchor\":\"y\",\"domain\":[0.0,1.0]},\"yaxis\":{\"anchor\":\"x\",\"domain\":[0.0,1.0]},\"annotations\":[{\"font\":{\"size\":16},\"showarrow\":false,\"text\":\"RankSum\",\"x\":0.5,\"xanchor\":\"center\",\"xref\":\"paper\",\"y\":1.0,\"yanchor\":\"bottom\",\"yref\":\"paper\"}]},                        {\"responsive\": true}                    ).then(function(){\n",
       "                            \n",
       "var gd = document.getElementById('e19279af-43be-4cef-b835-674d2dc9afe2');\n",
       "var x = new MutationObserver(function (mutations, observer) {{\n",
       "        var display = window.getComputedStyle(gd).display;\n",
       "        if (!display || display === 'none') {{\n",
       "            console.log([gd, 'removed!']);\n",
       "            Plotly.purge(gd);\n",
       "            observer.disconnect();\n",
       "        }}\n",
       "}});\n",
       "\n",
       "// Listen for the removal of the full notebook cells\n",
       "var notebookContainer = gd.closest('#notebook-container');\n",
       "if (notebookContainer) {{\n",
       "    x.observe(notebookContainer, {childList: true});\n",
       "}}\n",
       "\n",
       "// Listen for the clearing of the current output cell\n",
       "var outputEl = gd.closest('.output');\n",
       "if (outputEl) {{\n",
       "    x.observe(outputEl, {childList: true});\n",
       "}}\n",
       "\n",
       "                        })                };                });            </script>        </div>"
      ]
     },
     "metadata": {},
     "output_type": "display_data"
    }
   ],
   "execution_count": 33
  },
  {
   "cell_type": "code",
   "metadata": {
    "ExecuteTime": {
     "end_time": "2024-06-17T10:15:14.762257Z",
     "start_time": "2024-06-17T10:15:14.742178Z"
    }
   },
   "source": [
    "pg_s1"
   ],
   "outputs": [
    {
     "data": {
      "text/plain": [
       "       Unnamed: 0      Protein IDs Majority protein IDs Peptide counts (all)  \\\n",
       "index                                                                          \n",
       "0             655           P28795               P28795                   12   \n",
       "1             661           P29340               P29340                    3   \n",
       "2             804  P32800;P32800-2      P32800;P32800-2                  9;8   \n",
       "3             860           P33760               P33760                   11   \n",
       "4             896           P35056               P35056                   25   \n",
       "...           ...              ...                  ...                  ...   \n",
       "75            497           P22138               P22138                   21   \n",
       "76            283           P10592               P10592                   77   \n",
       "77           1632           P53172               P53172                    5   \n",
       "78            526           P23287               P23287                   19   \n",
       "79            400           P17065               P17065                   10   \n",
       "\n",
       "      Peptide counts (razor+unique) Peptide counts (unique)  \\\n",
       "index                                                         \n",
       "0                                12                      12   \n",
       "1                                 3                       3   \n",
       "2                               9;8                     9;8   \n",
       "3                                11                      11   \n",
       "4                                25                      25   \n",
       "...                             ...                     ...   \n",
       "75                               21                      21   \n",
       "76                               22                      19   \n",
       "77                                5                       5   \n",
       "78                               19                      18   \n",
       "79                               10                      10   \n",
       "\n",
       "                                           Protein names Gene names  \\\n",
       "index                                                                 \n",
       "0                        Peroxisomal biogenesis factor 3       PEX3   \n",
       "1                 Ubiquitin-conjugating enzyme E2-21 kDa       PEX4   \n",
       "2                        Peroxisomal biogenesis factor 2       PEX2   \n",
       "3                                Peroxisomal ATPase PEX6       PEX6   \n",
       "4                  Peroxisomal targeting signal receptor       PEX5   \n",
       "...                                                  ...        ...   \n",
       "75          DNA-directed RNA polymerase I subunit RPA135     RPA135   \n",
       "76                               Heat shock protein SSA2       SSA2   \n",
       "77                                         Protein SDS23      SDS23   \n",
       "78     Serine/threonine-protein phosphatase 2B cataly...       CNA1   \n",
       "79           Rab guanine nucleotide exchange factor SEC2       SEC2   \n",
       "\n",
       "                                           Fasta headers  Number of proteins  \\\n",
       "index                                                                          \n",
       "0      sp|P28795|PEX3_YEAST Peroxisomal biogenesis fa...                   1   \n",
       "1      sp|P29340|UBCX_YEAST Ubiquitin-conjugating enz...                   1   \n",
       "2      sp|P32800|PEX2_YEAST Peroxisomal biogenesis fa...                   2   \n",
       "3      sp|P33760|PEX6_YEAST Peroxisomal ATPase PEX6 O...                   1   \n",
       "4      sp|P35056|PEX5_YEAST Peroxisomal targeting sig...                   1   \n",
       "...                                                  ...                 ...   \n",
       "75     sp|P22138|RPA2_YEAST DNA-directed RNA polymera...                   1   \n",
       "76     sp|P10592|HSP72_YEAST Heat shock protein SSA2 ...                   1   \n",
       "77     sp|P53172|SDS23_YEAST Protein SDS23 OS=Sacchar...                   1   \n",
       "78     sp|P23287|PP2B1_YEAST Serine/threonine-protein...                   1   \n",
       "79     sp|P17065|SEC2_YEAST Rab guanine nucleotide ex...                   1   \n",
       "\n",
       "       ...  sum_iBAQ.WT_S1_R1_median_corrected_normalized_imputed  \\\n",
       "index  ...                                                          \n",
       "0      ...                                          17.743316       \n",
       "1      ...                                          17.029709       \n",
       "2      ...                                          14.681338       \n",
       "3      ...                                          18.710697       \n",
       "4      ...                                          17.869630       \n",
       "...    ...                                                ...       \n",
       "75     ...                                          19.963140       \n",
       "76     ...                                          27.142077       \n",
       "77     ...                                          19.325910       \n",
       "78     ...                                          21.811371       \n",
       "79     ...                                          16.089595       \n",
       "\n",
       "       sum_iBAQ.WT_S1_R2_median_corrected_normalized_imputed  \\\n",
       "index                                                          \n",
       "0                                              15.803549       \n",
       "1                                              16.961017       \n",
       "2                                              13.501248       \n",
       "3                                              18.449076       \n",
       "4                                              18.155808       \n",
       "...                                                  ...       \n",
       "75                                             20.426810       \n",
       "76                                             28.321378       \n",
       "77                                             19.015558       \n",
       "78                                             23.488692       \n",
       "79                                             18.333539       \n",
       "\n",
       "       sum_iBAQ.WT_S1_R3_median_corrected_normalized_imputed  \\\n",
       "index                                                          \n",
       "0                                              17.841420       \n",
       "1                                              17.839153       \n",
       "2                                              17.178307       \n",
       "3                                              17.840536       \n",
       "4                                              18.691594       \n",
       "...                                                  ...       \n",
       "75                                             17.628648       \n",
       "76                                             24.805846       \n",
       "77                                             18.242811       \n",
       "78                                             20.846099       \n",
       "79                                             18.225412       \n",
       "\n",
       "       RS_S1_interactome_ranksum  logFC_S1_interactome_ranksum  \\\n",
       "index                                                            \n",
       "0                      11.666667                      7.012434   \n",
       "1                      19.000000                      4.870647   \n",
       "2                       7.000000                      9.148991   \n",
       "3                      42.333333                      0.618892   \n",
       "4                      21.000000                      4.404064   \n",
       "...                          ...                           ...   \n",
       "75                     49.000000                     -0.200948   \n",
       "76                     42.666667                      1.048558   \n",
       "77                     55.333333                     -0.672796   \n",
       "78                     52.000000                     -0.234644   \n",
       "79                     48.000000                      0.185602   \n",
       "\n",
       "       PValue_class1<class2_S1_interactome_ranksum  \\\n",
       "index                                                \n",
       "0                                         0.985233   \n",
       "1                                         0.931593   \n",
       "2                                         0.997187   \n",
       "3                                         0.360354   \n",
       "4                                         0.906669   \n",
       "...                                            ...   \n",
       "75                                        0.187709   \n",
       "76                                        0.350737   \n",
       "77                                        0.080225   \n",
       "78                                        0.129296   \n",
       "79                                        0.210291   \n",
       "\n",
       "       PValue_class1>class2_S1_interactome_ranksum  \\\n",
       "index                                                \n",
       "0                                         0.016152   \n",
       "1                                         0.072207   \n",
       "2                                         0.003282   \n",
       "3                                         0.649263   \n",
       "4                                         0.097998   \n",
       "...                                            ...   \n",
       "75                                        0.819490   \n",
       "76                                        0.658806   \n",
       "77                                        0.923854   \n",
       "78                                        0.876325   \n",
       "79                                        0.797396   \n",
       "\n",
       "       adj.P.Val_class1<class2_S1_interactome_ranksum  \\\n",
       "index                                                   \n",
       "0                                            1.121650   \n",
       "1                                            1.168439   \n",
       "2                                            1.054169   \n",
       "3                                            0.634909   \n",
       "4                                            1.156784   \n",
       "...                                               ...   \n",
       "75                                           0.771691   \n",
       "76                                           0.633037   \n",
       "77                                           0.989439   \n",
       "78                                           0.735995   \n",
       "79                                           0.707343   \n",
       "\n",
       "       adj.P.Val_class1>class2_S1_interactome_ranksum     POI  \n",
       "index                                                          \n",
       "0                                            0.119522    Pex3  \n",
       "1                                            0.333957    Pex4  \n",
       "2                                            0.048576    Pex2  \n",
       "3                                            1.501421    Pex6  \n",
       "4                                            0.426578    Pex5  \n",
       "...                                               ...     ...  \n",
       "75                                           1.045556  Rpa135  \n",
       "76                                           1.392904    Ssa2  \n",
       "77                                           0.976646   Sds23  \n",
       "78                                           1.045937    Cna1  \n",
       "79                                           1.092728    Sec2  \n",
       "\n",
       "[74 rows x 902 columns]"
      ],
      "text/html": [
       "<div>\n",
       "<style scoped>\n",
       "    .dataframe tbody tr th:only-of-type {\n",
       "        vertical-align: middle;\n",
       "    }\n",
       "\n",
       "    .dataframe tbody tr th {\n",
       "        vertical-align: top;\n",
       "    }\n",
       "\n",
       "    .dataframe thead th {\n",
       "        text-align: right;\n",
       "    }\n",
       "</style>\n",
       "<table border=\"1\" class=\"dataframe\">\n",
       "  <thead>\n",
       "    <tr style=\"text-align: right;\">\n",
       "      <th></th>\n",
       "      <th>Unnamed: 0</th>\n",
       "      <th>Protein IDs</th>\n",
       "      <th>Majority protein IDs</th>\n",
       "      <th>Peptide counts (all)</th>\n",
       "      <th>Peptide counts (razor+unique)</th>\n",
       "      <th>Peptide counts (unique)</th>\n",
       "      <th>Protein names</th>\n",
       "      <th>Gene names</th>\n",
       "      <th>Fasta headers</th>\n",
       "      <th>Number of proteins</th>\n",
       "      <th>...</th>\n",
       "      <th>sum_iBAQ.WT_S1_R1_median_corrected_normalized_imputed</th>\n",
       "      <th>sum_iBAQ.WT_S1_R2_median_corrected_normalized_imputed</th>\n",
       "      <th>sum_iBAQ.WT_S1_R3_median_corrected_normalized_imputed</th>\n",
       "      <th>RS_S1_interactome_ranksum</th>\n",
       "      <th>logFC_S1_interactome_ranksum</th>\n",
       "      <th>PValue_class1&lt;class2_S1_interactome_ranksum</th>\n",
       "      <th>PValue_class1&gt;class2_S1_interactome_ranksum</th>\n",
       "      <th>adj.P.Val_class1&lt;class2_S1_interactome_ranksum</th>\n",
       "      <th>adj.P.Val_class1&gt;class2_S1_interactome_ranksum</th>\n",
       "      <th>POI</th>\n",
       "    </tr>\n",
       "    <tr>\n",
       "      <th>index</th>\n",
       "      <th></th>\n",
       "      <th></th>\n",
       "      <th></th>\n",
       "      <th></th>\n",
       "      <th></th>\n",
       "      <th></th>\n",
       "      <th></th>\n",
       "      <th></th>\n",
       "      <th></th>\n",
       "      <th></th>\n",
       "      <th></th>\n",
       "      <th></th>\n",
       "      <th></th>\n",
       "      <th></th>\n",
       "      <th></th>\n",
       "      <th></th>\n",
       "      <th></th>\n",
       "      <th></th>\n",
       "      <th></th>\n",
       "      <th></th>\n",
       "      <th></th>\n",
       "    </tr>\n",
       "  </thead>\n",
       "  <tbody>\n",
       "    <tr>\n",
       "      <th>0</th>\n",
       "      <td>655</td>\n",
       "      <td>P28795</td>\n",
       "      <td>P28795</td>\n",
       "      <td>12</td>\n",
       "      <td>12</td>\n",
       "      <td>12</td>\n",
       "      <td>Peroxisomal biogenesis factor 3</td>\n",
       "      <td>PEX3</td>\n",
       "      <td>sp|P28795|PEX3_YEAST Peroxisomal biogenesis fa...</td>\n",
       "      <td>1</td>\n",
       "      <td>...</td>\n",
       "      <td>17.743316</td>\n",
       "      <td>15.803549</td>\n",
       "      <td>17.841420</td>\n",
       "      <td>11.666667</td>\n",
       "      <td>7.012434</td>\n",
       "      <td>0.985233</td>\n",
       "      <td>0.016152</td>\n",
       "      <td>1.121650</td>\n",
       "      <td>0.119522</td>\n",
       "      <td>Pex3</td>\n",
       "    </tr>\n",
       "    <tr>\n",
       "      <th>1</th>\n",
       "      <td>661</td>\n",
       "      <td>P29340</td>\n",
       "      <td>P29340</td>\n",
       "      <td>3</td>\n",
       "      <td>3</td>\n",
       "      <td>3</td>\n",
       "      <td>Ubiquitin-conjugating enzyme E2-21 kDa</td>\n",
       "      <td>PEX4</td>\n",
       "      <td>sp|P29340|UBCX_YEAST Ubiquitin-conjugating enz...</td>\n",
       "      <td>1</td>\n",
       "      <td>...</td>\n",
       "      <td>17.029709</td>\n",
       "      <td>16.961017</td>\n",
       "      <td>17.839153</td>\n",
       "      <td>19.000000</td>\n",
       "      <td>4.870647</td>\n",
       "      <td>0.931593</td>\n",
       "      <td>0.072207</td>\n",
       "      <td>1.168439</td>\n",
       "      <td>0.333957</td>\n",
       "      <td>Pex4</td>\n",
       "    </tr>\n",
       "    <tr>\n",
       "      <th>2</th>\n",
       "      <td>804</td>\n",
       "      <td>P32800;P32800-2</td>\n",
       "      <td>P32800;P32800-2</td>\n",
       "      <td>9;8</td>\n",
       "      <td>9;8</td>\n",
       "      <td>9;8</td>\n",
       "      <td>Peroxisomal biogenesis factor 2</td>\n",
       "      <td>PEX2</td>\n",
       "      <td>sp|P32800|PEX2_YEAST Peroxisomal biogenesis fa...</td>\n",
       "      <td>2</td>\n",
       "      <td>...</td>\n",
       "      <td>14.681338</td>\n",
       "      <td>13.501248</td>\n",
       "      <td>17.178307</td>\n",
       "      <td>7.000000</td>\n",
       "      <td>9.148991</td>\n",
       "      <td>0.997187</td>\n",
       "      <td>0.003282</td>\n",
       "      <td>1.054169</td>\n",
       "      <td>0.048576</td>\n",
       "      <td>Pex2</td>\n",
       "    </tr>\n",
       "    <tr>\n",
       "      <th>3</th>\n",
       "      <td>860</td>\n",
       "      <td>P33760</td>\n",
       "      <td>P33760</td>\n",
       "      <td>11</td>\n",
       "      <td>11</td>\n",
       "      <td>11</td>\n",
       "      <td>Peroxisomal ATPase PEX6</td>\n",
       "      <td>PEX6</td>\n",
       "      <td>sp|P33760|PEX6_YEAST Peroxisomal ATPase PEX6 O...</td>\n",
       "      <td>1</td>\n",
       "      <td>...</td>\n",
       "      <td>18.710697</td>\n",
       "      <td>18.449076</td>\n",
       "      <td>17.840536</td>\n",
       "      <td>42.333333</td>\n",
       "      <td>0.618892</td>\n",
       "      <td>0.360354</td>\n",
       "      <td>0.649263</td>\n",
       "      <td>0.634909</td>\n",
       "      <td>1.501421</td>\n",
       "      <td>Pex6</td>\n",
       "    </tr>\n",
       "    <tr>\n",
       "      <th>4</th>\n",
       "      <td>896</td>\n",
       "      <td>P35056</td>\n",
       "      <td>P35056</td>\n",
       "      <td>25</td>\n",
       "      <td>25</td>\n",
       "      <td>25</td>\n",
       "      <td>Peroxisomal targeting signal receptor</td>\n",
       "      <td>PEX5</td>\n",
       "      <td>sp|P35056|PEX5_YEAST Peroxisomal targeting sig...</td>\n",
       "      <td>1</td>\n",
       "      <td>...</td>\n",
       "      <td>17.869630</td>\n",
       "      <td>18.155808</td>\n",
       "      <td>18.691594</td>\n",
       "      <td>21.000000</td>\n",
       "      <td>4.404064</td>\n",
       "      <td>0.906669</td>\n",
       "      <td>0.097998</td>\n",
       "      <td>1.156784</td>\n",
       "      <td>0.426578</td>\n",
       "      <td>Pex5</td>\n",
       "    </tr>\n",
       "    <tr>\n",
       "      <th>...</th>\n",
       "      <td>...</td>\n",
       "      <td>...</td>\n",
       "      <td>...</td>\n",
       "      <td>...</td>\n",
       "      <td>...</td>\n",
       "      <td>...</td>\n",
       "      <td>...</td>\n",
       "      <td>...</td>\n",
       "      <td>...</td>\n",
       "      <td>...</td>\n",
       "      <td>...</td>\n",
       "      <td>...</td>\n",
       "      <td>...</td>\n",
       "      <td>...</td>\n",
       "      <td>...</td>\n",
       "      <td>...</td>\n",
       "      <td>...</td>\n",
       "      <td>...</td>\n",
       "      <td>...</td>\n",
       "      <td>...</td>\n",
       "      <td>...</td>\n",
       "    </tr>\n",
       "    <tr>\n",
       "      <th>75</th>\n",
       "      <td>497</td>\n",
       "      <td>P22138</td>\n",
       "      <td>P22138</td>\n",
       "      <td>21</td>\n",
       "      <td>21</td>\n",
       "      <td>21</td>\n",
       "      <td>DNA-directed RNA polymerase I subunit RPA135</td>\n",
       "      <td>RPA135</td>\n",
       "      <td>sp|P22138|RPA2_YEAST DNA-directed RNA polymera...</td>\n",
       "      <td>1</td>\n",
       "      <td>...</td>\n",
       "      <td>19.963140</td>\n",
       "      <td>20.426810</td>\n",
       "      <td>17.628648</td>\n",
       "      <td>49.000000</td>\n",
       "      <td>-0.200948</td>\n",
       "      <td>0.187709</td>\n",
       "      <td>0.819490</td>\n",
       "      <td>0.771691</td>\n",
       "      <td>1.045556</td>\n",
       "      <td>Rpa135</td>\n",
       "    </tr>\n",
       "    <tr>\n",
       "      <th>76</th>\n",
       "      <td>283</td>\n",
       "      <td>P10592</td>\n",
       "      <td>P10592</td>\n",
       "      <td>77</td>\n",
       "      <td>22</td>\n",
       "      <td>19</td>\n",
       "      <td>Heat shock protein SSA2</td>\n",
       "      <td>SSA2</td>\n",
       "      <td>sp|P10592|HSP72_YEAST Heat shock protein SSA2 ...</td>\n",
       "      <td>1</td>\n",
       "      <td>...</td>\n",
       "      <td>27.142077</td>\n",
       "      <td>28.321378</td>\n",
       "      <td>24.805846</td>\n",
       "      <td>42.666667</td>\n",
       "      <td>1.048558</td>\n",
       "      <td>0.350737</td>\n",
       "      <td>0.658806</td>\n",
       "      <td>0.633037</td>\n",
       "      <td>1.392904</td>\n",
       "      <td>Ssa2</td>\n",
       "    </tr>\n",
       "    <tr>\n",
       "      <th>77</th>\n",
       "      <td>1632</td>\n",
       "      <td>P53172</td>\n",
       "      <td>P53172</td>\n",
       "      <td>5</td>\n",
       "      <td>5</td>\n",
       "      <td>5</td>\n",
       "      <td>Protein SDS23</td>\n",
       "      <td>SDS23</td>\n",
       "      <td>sp|P53172|SDS23_YEAST Protein SDS23 OS=Sacchar...</td>\n",
       "      <td>1</td>\n",
       "      <td>...</td>\n",
       "      <td>19.325910</td>\n",
       "      <td>19.015558</td>\n",
       "      <td>18.242811</td>\n",
       "      <td>55.333333</td>\n",
       "      <td>-0.672796</td>\n",
       "      <td>0.080225</td>\n",
       "      <td>0.923854</td>\n",
       "      <td>0.989439</td>\n",
       "      <td>0.976646</td>\n",
       "      <td>Sds23</td>\n",
       "    </tr>\n",
       "    <tr>\n",
       "      <th>78</th>\n",
       "      <td>526</td>\n",
       "      <td>P23287</td>\n",
       "      <td>P23287</td>\n",
       "      <td>19</td>\n",
       "      <td>19</td>\n",
       "      <td>18</td>\n",
       "      <td>Serine/threonine-protein phosphatase 2B cataly...</td>\n",
       "      <td>CNA1</td>\n",
       "      <td>sp|P23287|PP2B1_YEAST Serine/threonine-protein...</td>\n",
       "      <td>1</td>\n",
       "      <td>...</td>\n",
       "      <td>21.811371</td>\n",
       "      <td>23.488692</td>\n",
       "      <td>20.846099</td>\n",
       "      <td>52.000000</td>\n",
       "      <td>-0.234644</td>\n",
       "      <td>0.129296</td>\n",
       "      <td>0.876325</td>\n",
       "      <td>0.735995</td>\n",
       "      <td>1.045937</td>\n",
       "      <td>Cna1</td>\n",
       "    </tr>\n",
       "    <tr>\n",
       "      <th>79</th>\n",
       "      <td>400</td>\n",
       "      <td>P17065</td>\n",
       "      <td>P17065</td>\n",
       "      <td>10</td>\n",
       "      <td>10</td>\n",
       "      <td>10</td>\n",
       "      <td>Rab guanine nucleotide exchange factor SEC2</td>\n",
       "      <td>SEC2</td>\n",
       "      <td>sp|P17065|SEC2_YEAST Rab guanine nucleotide ex...</td>\n",
       "      <td>1</td>\n",
       "      <td>...</td>\n",
       "      <td>16.089595</td>\n",
       "      <td>18.333539</td>\n",
       "      <td>18.225412</td>\n",
       "      <td>48.000000</td>\n",
       "      <td>0.185602</td>\n",
       "      <td>0.210291</td>\n",
       "      <td>0.797396</td>\n",
       "      <td>0.707343</td>\n",
       "      <td>1.092728</td>\n",
       "      <td>Sec2</td>\n",
       "    </tr>\n",
       "  </tbody>\n",
       "</table>\n",
       "<p>74 rows × 902 columns</p>\n",
       "</div>"
      ]
     },
     "execution_count": 34,
     "metadata": {},
     "output_type": "execute_result"
    }
   ],
   "execution_count": 34
  },
  {
   "cell_type": "markdown",
   "metadata": {},
   "source": [
    "## Data Export"
   ]
  },
  {
   "cell_type": "code",
   "metadata": {
    "ExecuteTime": {
     "end_time": "2024-06-17T10:15:15.002960Z",
     "start_time": "2024-06-17T10:15:14.762257Z"
    }
   },
   "source": [
    "# reload the original file for merging\n",
    "pg_raw = pp.read_csv(\"data/txt/proteinGroups.txt\")\n",
    "# remove inverse and contaminants\n",
    "pg_raw = pp.cleaning(pg_raw)"
   ],
   "outputs": [
    {
     "name": "stdout",
     "output_type": "stream",
     "text": [
      "2388 rows before filter operation.\n",
      "2249 rows after filter operation.\n"
     ]
    }
   ],
   "execution_count": 35
  },
  {
   "cell_type": "code",
   "metadata": {
    "ExecuteTime": {
     "end_time": "2024-06-17T10:15:15.018662Z",
     "start_time": "2024-06-17T10:15:15.002960Z"
    }
   },
   "source": [
    "pg_s1[f\"RankSum Fold change\"] = pg_s1[f\"logFC_S1_interactome_ranksum\"].apply(\n",
    "    lambda x: 2**x\n",
    ")\n",
    "\n",
    "\n",
    "pg_s1[f\"RankSum -log10 q-value\"] = pg_s1[\n",
    "    f\"adj.P.Val_class1>class2_S1_interactome_ranksum\"\n",
    "].apply(lambda x: -np.log10(x))\n",
    "\n",
    "pg_s1[f\"RankSum significant\"] = False\n",
    "\n",
    "pg_s1.loc[\n",
    "    (pg_s1[f\"logFC_S1_interactome_ranksum\"].abs() > 0)\n",
    "    & (pg_s1[f\"RankSum -log10 q-value\"] > -np.log10(0.05)),\n",
    "    f\"RankSum significant\",\n",
    "] = True"
   ],
   "outputs": [],
   "execution_count": 36
  },
  {
   "cell_type": "code",
   "metadata": {
    "ExecuteTime": {
     "end_time": "2024-06-17T10:15:15.034269Z",
     "start_time": "2024-06-17T10:15:15.018662Z"
    }
   },
   "source": [
    "columns_to_delete = [\n",
    "    # general\n",
    "    \"UID\",\n",
    "    r\"^t_limma_(.*)\",\n",
    "    \"^CI.L_limma_(.*)\",\n",
    "    \"^CI.R_limma_(.*)\",\n",
    "    \"^B_limma_\",\n",
    "    \"^score_ttest_(.*)\",\n",
    "    \"Unique + razor sequence coverage \\[%\\]\",\n",
    "    \"Unique sequence coverage \\[%\\]\",\n",
    "    \"Sequence length.*\",\n",
    "    \"Fraction average\",\n",
    "    r\"^AveExpr_limma_(.*)\",\n",
    "    r\"Fraction \\d+\",\n",
    "    \"MS/MS IDs\",\n",
    "    \"Best MS/MS\",\n",
    "    \"Taxonomy IDs\",\n",
    "    \"Peptide counts (.*)\",\n",
    "    r\"^Peptide sequences$\",\n",
    "    r\"Peptide IDs\",\n",
    "    r\"Peptide is razor\",\n",
    "    r\"Mod. peptide IDs\",\n",
    "    r\"Evidence IDs\",\n",
    "    r\"^.* site IDs$\",\n",
    "    r\"^.* site positions$\",\n",
    "    r\"^.*class1<class2.+\",\n",
    "    r\"CI.\\w+_limma\",\n",
    "    r\"AveExpr_limma\",\n",
    "    r\"t_limma\",\n",
    "    \"B_limma\",\n",
    "    \"Taxonomy names\",\n",
    "    \"Q-value\",\n",
    "]\n",
    "\n",
    "columns_to_rename = [\n",
    "    (r\"log10_iBAQ\", r\"Log10 iBAQ\"),\n",
    "    (r\"^sum_iBAQ\", r\"iBAQ Sum over Lanes\"),\n",
    "    (r\"^logFC(.*)\", r\"Mean log2 fold-change \\1\"),\n",
    "    (r\"^P.Value_limma(.*)\", r\"LIMMA raw p value \\1\"),\n",
    "    (r\"^adj.P.Val_limma(.*)\", r\"LIMMA corrected p value \\1\"),\n",
    "    (r\"adj.P.Val_class1>class2(.*)\", r\"RankSum q-value \\1\"),\n",
    "    (r\"PValue_class1>class2(.*)\", r\"RankSum raw p value \\1\"),\n",
    "    (r\"^logFC_rankprod(.*)\", r\"RankProduct mean log2 fold-change \\1\"),\n",
    "    (r\"^pValue_ttest(.*)\", r\"ttest raw p value \\1\"),\n",
    "    (r\"^logFC_ttest(.*)\", r\"ttest log2 fold-change \\1\"),\n",
    "    (r\"adj.pValue_ttest(.*)\", r\"ttest corrected p value \\1\"),\n",
    "    (r\"^id$\", \"Protein Groups ID\"),\n",
    "    (r\"Number of proteins\", \"Number of proteins in protein group\"),\n",
    "    (r\"(.*)_norm(.*)\", r\"\\1 normalized \\2\"),\n",
    "    (r\"RS_(\\w+)\", r\"RankProd Rank Sum \\1\"),\n",
    "    (\"_S1_interactome_ranksum\", \"\"),\n",
    "    (\"\\.\", \" \"),\n",
    "    (\"_\", \" \"),\n",
    "]\n",
    "\n",
    "cols_order = [\n",
    "    # General columns\n",
    "    \"Protein Groups ID\",\n",
    "    \"Protein IDs\",\n",
    "    \"Majority protein IDs\",\n",
    "    \"Systematic Name\",\n",
    "    \"Protein names\",\n",
    "    \"Gene names\",\n",
    "    \"Gene names first\",\n",
    "    \"Fasta headers\",\n",
    "    \"Number of proteins in protein group\",\n",
    "    r\"Sequence coverage \\[%\\]\",\n",
    "    r\"Mol. weight \\[kDa\\]\",\n",
    "    \"Score\",\n",
    "    \"Corrected log2 Ratio .*\",\n",
    "    \".*LIMMA.*\",\n",
    "    \".*RankProd.*\",\n",
    "    \"^Sequence coverage .* \\[%\\]\",\n",
    "    \"^Peptides.*\",\n",
    "    \"^Unique peptides.*\",\n",
    "    \".*\",\n",
    "]"
   ],
   "outputs": [],
   "execution_count": 37
  },
  {
   "cell_type": "code",
   "metadata": {
    "ExecuteTime": {
     "end_time": "2024-06-17T10:15:15.059243Z",
     "start_time": "2024-06-17T10:15:15.034269Z"
    }
   },
   "source": [
    "def write_styled_sheet(writer, sheetname, df):\n",
    "    df.to_excel(\n",
    "        writer, sheet_name=sheetname, startrow=1, startcol=0, index=False, header=False\n",
    "    )\n",
    "\n",
    "    # Get the xlsxwriter objects from the dataframe writer object.\n",
    "    workbook = writer.book\n",
    "    worksheet = writer.sheets[sheetname]\n",
    "\n",
    "    # Add a header format.\n",
    "    header_format = workbook.add_format(\n",
    "        {\n",
    "            \"bold\": True,\n",
    "            \"text_wrap\": True,\n",
    "            \"valign\": \"vcenter\",\n",
    "            \"fg_color\": \"#EAEAEA\",\n",
    "            \"border\": False,\n",
    "            \"align\": \"center\",\n",
    "            \"bottom\": 5,\n",
    "        }\n",
    "    )\n",
    "\n",
    "    # Write the column headers with the defined format.\n",
    "    for col_num, value in enumerate(df.columns.values):\n",
    "        worksheet.write(0, col_num, value, header_format)\n",
    "\n",
    "    worksheet.autofilter(0, 0, df.shape[0], df.shape[1])\n",
    "    worksheet.freeze_panes(1, 0)"
   ],
   "outputs": [],
   "execution_count": 38
  },
  {
   "cell_type": "code",
   "metadata": {
    "ExecuteTime": {
     "end_time": "2024-06-17T10:15:15.234470Z",
     "start_time": "2024-06-17T10:15:15.059761Z"
    }
   },
   "source": [
    "# check if the resutls dir exists\n",
    "if not os.path.isdir(\"results\"):\n",
    "    os.mkdir(\"results\")\n",
    "\n",
    "# Creating Excel Writer Object from Pandas\n",
    "results_writer = pd.ExcelWriter(\n",
    "    f\"results/Pex18-TPA_results.xlsx\",\n",
    "    engine=\"xlsxwriter\",\n",
    ")\n",
    "\n",
    "# merge the original proteinGroups.txt to include all measured data\n",
    "filtered_rows = list(set(pg_raw[\"id\"]).difference(set(pg_s1[\"id\"])))\n",
    "tmp = pd.concat([pg_s1, pg_raw[pg_raw[\"id\"].isin(filtered_rows)]])\n",
    "tmp.sort_values(by=\"id\", inplace=True)"
   ],
   "outputs": [],
   "execution_count": 39
  },
  {
   "cell_type": "markdown",
   "metadata": {},
   "source": [
    "### ID Mapping\n",
    "Conversion from UniProt IDs to DGS IDs"
   ]
  },
  {
   "cell_type": "code",
   "metadata": {
    "ExecuteTime": {
     "end_time": "2024-06-17T10:15:16.376281Z",
     "start_time": "2024-06-17T10:15:15.234470Z"
    }
   },
   "source": [
    "import uniprot_idmapper_api as idmapper\n",
    "\n",
    "uniprot_ids = tmp[\"Majority protein IDs\"].str.split(\";\").str[0].tolist()\n",
    "\n",
    "job_id = idmapper.submit_id_mapping(\n",
    "    from_db=\"UniProtKB_AC-ID\",\n",
    "    to_db=\"SGD\",\n",
    "    ids=uniprot_ids,\n",
    ")\n",
    "\n",
    "if idmapper.check_id_mapping_results_ready(job_id):\n",
    "    link = idmapper.get_id_mapping_results_link(job_id)\n",
    "    results = idmapper.get_id_mapping_results_search(link)"
   ],
   "outputs": [
    {
     "name": "stdout",
     "output_type": "stream",
     "text": [
      "Fetched: 500 / 2236\n",
      "Fetched: 1000 / 2236\n",
      "Fetched: 1500 / 2236\n",
      "Fetched: 2000 / 2236\n",
      "Fetched: 2236 / 2236\n"
     ]
    }
   ],
   "execution_count": 40
  },
  {
   "cell_type": "code",
   "metadata": {
    "ExecuteTime": {
     "end_time": "2024-06-17T10:15:16.391784Z",
     "start_time": "2024-06-17T10:15:16.377275Z"
    }
   },
   "source": [
    "rename_dict = {x[\"from\"]: x[\"to\"] for x in results[\"results\"]}\n",
    "\n",
    "tmp[\"SGD ID\"] = tmp[\"Majority protein IDs\"].str.split(\";\").str[0].map(rename_dict)"
   ],
   "outputs": [],
   "execution_count": 41
  },
  {
   "cell_type": "markdown",
   "metadata": {},
   "source": [
    "### Clean up columns and write results"
   ]
  },
  {
   "cell_type": "code",
   "metadata": {
    "ExecuteTime": {
     "end_time": "2024-06-17T10:15:39.116158Z",
     "start_time": "2024-06-17T10:15:16.392776Z"
    }
   },
   "source": [
    "for regex in columns_to_delete:\n",
    "    print(f\"Deleting {regex}\")\n",
    "    tmp.drop(tmp.filter(regex=regex).columns, axis=1, inplace=True)\n",
    "\n",
    "for regex in columns_to_rename:\n",
    "    print(f\"Replacing {regex[0]}\")\n",
    "    tmp = tmp.rename(columns=lambda x: re.sub(regex[0], regex[1], x))\n",
    "\n",
    "# reorder columns\n",
    "old_cols = tmp.columns\n",
    "new_cols = []\n",
    "for regex in cols_order:\n",
    "    r = re.compile(regex)\n",
    "    new_cols.extend([i for i in old_cols if r.match(i)])\n",
    "    old_cols = [x for x in old_cols if x not in new_cols]\n",
    "\n",
    "tmp = tmp[new_cols]\n",
    "\n",
    "write_styled_sheet(results_writer, \"results\", tmp)\n",
    "\n",
    "# Close the Pandas Excel writer and output the Excel file.\n",
    "results_writer.close()"
   ],
   "outputs": [
    {
     "name": "stdout",
     "output_type": "stream",
     "text": [
      "Deleting UID\n",
      "Deleting ^t_limma_(.*)\n",
      "Deleting ^CI.L_limma_(.*)\n",
      "Deleting ^CI.R_limma_(.*)\n",
      "Deleting ^B_limma_\n",
      "Deleting ^score_ttest_(.*)\n",
      "Deleting Unique + razor sequence coverage \\[%\\]\n",
      "Deleting Unique sequence coverage \\[%\\]\n",
      "Deleting Sequence length.*\n",
      "Deleting Fraction average\n",
      "Deleting ^AveExpr_limma_(.*)\n",
      "Deleting Fraction \\d+\n",
      "Deleting MS/MS IDs\n",
      "Deleting Best MS/MS\n",
      "Deleting Taxonomy IDs\n",
      "Deleting Peptide counts (.*)\n",
      "Deleting ^Peptide sequences$\n",
      "Deleting Peptide IDs\n",
      "Deleting Peptide is razor\n",
      "Deleting Mod. peptide IDs\n",
      "Deleting Evidence IDs\n",
      "Deleting ^.* site IDs$\n",
      "Deleting ^.* site positions$\n",
      "Deleting ^.*class1<class2.+\n",
      "Deleting CI.\\w+_limma\n",
      "Deleting AveExpr_limma\n",
      "Deleting t_limma\n",
      "Deleting B_limma\n",
      "Deleting Taxonomy names\n",
      "Deleting Q-value\n",
      "Replacing log10_iBAQ\n",
      "Replacing ^sum_iBAQ\n",
      "Replacing ^logFC(.*)\n",
      "Replacing ^P.Value_limma(.*)\n",
      "Replacing ^adj.P.Val_limma(.*)\n",
      "Replacing adj.P.Val_class1>class2(.*)\n",
      "Replacing PValue_class1>class2(.*)\n",
      "Replacing ^logFC_rankprod(.*)\n",
      "Replacing ^pValue_ttest(.*)\n",
      "Replacing ^logFC_ttest(.*)\n",
      "Replacing adj.pValue_ttest(.*)\n",
      "Replacing ^id$\n",
      "Replacing Number of proteins\n",
      "Replacing (.*)_norm(.*)\n",
      "Replacing RS_(\\w+)\n",
      "Replacing _S1_interactome_ranksum\n",
      "Replacing \\.\n",
      "Replacing _\n"
     ]
    }
   ],
   "execution_count": 42
  },
  {
   "cell_type": "code",
   "metadata": {
    "ExecuteTime": {
     "end_time": "2024-06-17T10:15:39.138313Z",
     "start_time": "2024-06-17T10:15:39.116158Z"
    }
   },
   "source": [],
   "outputs": [],
   "execution_count": 42
  }
 ],
 "metadata": {
  "kernelspec": {
   "display_name": "Python 3 (ipykernel)",
   "language": "python",
   "name": "python3"
  },
  "language_info": {
   "codemirror_mode": {
    "name": "ipython",
    "version": 3
   },
   "file_extension": ".py",
   "mimetype": "text/x-python",
   "name": "python",
   "nbconvert_exporter": "python",
   "pygments_lexer": "ipython3",
   "version": "3.10.9"
  }
 },
 "nbformat": 4,
 "nbformat_minor": 4
}
